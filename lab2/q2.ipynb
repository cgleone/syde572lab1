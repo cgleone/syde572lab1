{
 "cells": [
  {
   "cell_type": "code",
   "execution_count": 12,
   "metadata": {},
   "outputs": [],
   "source": [
    "from scipy.io import loadmat\n",
    "import matplotlib.pyplot as plt\n",
    "import numpy as np\n",
    "from scipy.stats import norm\n",
    "from numpy.linalg import det\n",
    "\n",
    "data1 = loadmat('lab2_1.mat')\n",
    "data2 = loadmat('lab2_2.mat')\n",
    "data3 = loadmat('lab2_3.mat')\n",
    "\n",
    "al = data2['al']\n",
    "bl = data2['bl']\n",
    "cl = data2['cl']"
   ]
  },
  {
   "cell_type": "code",
   "execution_count": 19,
   "metadata": {},
   "outputs": [
    {
     "data": {
      "text/plain": [
       "array([[15939.4954,  4896.193 ],\n",
       "       [ 4896.193 ,  3806.73  ]])"
      ]
     },
     "execution_count": 19,
     "metadata": {},
     "output_type": "execute_result"
    }
   ],
   "source": [
    "mu_hat_al = np.sum(al, axis=0) / al.size\n",
    "sigma_hat_al = (al - mu_hat_al).T@(al - mu_hat_al) / al.size\n",
    "sigma_hat_al"
   ]
  },
  {
   "cell_type": "code",
   "execution_count": 14,
   "metadata": {},
   "outputs": [
    {
     "data": {
      "text/plain": [
       "array([[12287.6104 ,  8754.3912 ],\n",
       "       [ 8754.3912 ,  7963.03985]])"
      ]
     },
     "execution_count": 14,
     "metadata": {},
     "output_type": "execute_result"
    }
   ],
   "source": [
    "mu_hat_bl = np.sum(bl, axis=0) / bl.size\n",
    "sigma_hat_bl = (bl - mu_hat_bl).T@(bl - mu_hat_bl) / bl.size\n",
    "sigma_hat_bl"
   ]
  },
  {
   "cell_type": "code",
   "execution_count": 33,
   "metadata": {},
   "outputs": [
    {
     "data": {
      "text/plain": [
       "array([[ 3142.0590625,  4523.5855625],\n",
       "       [ 4523.5855625, 15863.6516625]])"
      ]
     },
     "execution_count": 33,
     "metadata": {},
     "output_type": "execute_result"
    }
   ],
   "source": [
    "mu_hat_cl = np.sum(cl, axis=0) / cl.size\n",
    "sigma_hat_cl = (cl - mu_hat_cl).T@(cl - mu_hat_cl) / cl.size\n",
    "sigma_hat_cl"
   ]
  },
  {
   "cell_type": "code",
   "execution_count": 17,
   "metadata": {},
   "outputs": [],
   "source": [
    "class Cluster:\n",
    "    def __init__(self, x, mu, sigma, name=''):\n",
    "        self.mu = mu\n",
    "        self.sigma = sigma\n",
    "        self.x = x\n",
    "        self.N = x.size\n",
    "        self.name = name"
   ]
  },
  {
   "cell_type": "code",
   "execution_count": 36,
   "metadata": {},
   "outputs": [],
   "source": [
    "al_cluster = Cluster(al, mu_hat_al, sigma_hat_al, name = 'al')\n",
    "bl_cluster = Cluster(bl, mu_hat_bl, sigma_hat_bl, name = 'bl')\n",
    "cl_cluster = Cluster(cl, mu_hat_cl, sigma_hat_cl, name = 'cl')"
   ]
  },
  {
   "cell_type": "code",
   "execution_count": 64,
   "metadata": {},
   "outputs": [],
   "source": [
    "def ml_classifier(x, classes):\n",
    "    \"\"\"\n",
    "    Classify a point (x, y) into classes using ML\n",
    "    We choose the class that maximizes the likelihood P(x|A) = P(x|A)*P(A) / P(x)\n",
    "    Since P(x) is the same marginal for all cases, we want max(P(x|C_i)*P(C_i)) for C_i in classes\n",
    "    \"\"\"\n",
    "    x = np.array(x).reshape(2, 1)\n",
    "    likelihoods = []\n",
    "    for c in classes:\n",
    "        likelihood = np.exp(-0.5 * (x - c.mu.reshape(2,1)).T @ np.linalg.inv(c.sigma)@ (x - c.mu.reshape(2,1))) / (2 * np.pi * np.sqrt(det(c.sigma)))\n",
    "        likelihoods.append(likelihood)\n",
    "    idx = np.argmax(likelihoods)\n",
    "    return idx"
   ]
  },
  {
   "cell_type": "code",
   "execution_count": 106,
   "metadata": {},
   "outputs": [],
   "source": [
    "ymin, ymax, xmin, xmax = 0, 500, 0, 500\n",
    "step = 5\n",
    "count = int((xmax-xmin+1)/step)\n",
    "x = np.linspace(xmin, xmax, count)\n",
    "y = np.linspace(ymin, ymax, count)\n",
    "x_coords, y_coords = np.meshgrid(x, y, indexing='ij')\n",
    "classified_array = np.zeros_like(x_coords)"
   ]
  },
  {
   "cell_type": "code",
   "execution_count": 100,
   "metadata": {},
   "outputs": [
    {
     "data": {
      "text/plain": [
       "1"
      ]
     },
     "execution_count": 100,
     "metadata": {},
     "output_type": "execute_result"
    }
   ],
   "source": [
    "x= np.array([0,0]).reshape(2,1)\n",
    "classes = [al_cluster, bl_cluster, cl_cluster]\n",
    "ml_classifier(x, classes)"
   ]
  },
  {
   "cell_type": "code",
   "execution_count": 107,
   "metadata": {},
   "outputs": [],
   "source": [
    "for i in range(count):\n",
    "    for j in range(count):\n",
    "        for k in range(count):\n",
    "            x = np.array([x_coords[i][j], y_coords[i][j]]).reshape(2,1)\n",
    "            classified = ml_classifier(x, classes)\n",
    "            classified_array[i, j] = classified"
   ]
  },
  {
   "cell_type": "code",
   "execution_count": null,
   "metadata": {},
   "outputs": [
    {
     "data": {
      "text/plain": [
       "array([[1., 1., 1., ..., 2., 2., 2.],\n",
       "       [1., 1., 1., ..., 2., 2., 2.],\n",
       "       [1., 1., 1., ..., 2., 2., 2.],\n",
       "       ...,\n",
       "       [0., 0., 0., ..., 1., 1., 1.],\n",
       "       [0., 0., 0., ..., 1., 1., 1.],\n",
       "       [0., 0., 0., ..., 1., 1., 1.]])"
      ]
     },
     "execution_count": 102,
     "metadata": {},
     "output_type": "execute_result"
    }
   ],
   "source": [
    "classified_array"
   ]
  },
  {
   "cell_type": "code",
   "execution_count": 104,
   "metadata": {},
   "outputs": [],
   "source": [
    "def plot_classified_data(classified_data, classes):\n",
    "    plt.contour(x_coords, y_coords, classified_data, cmap='Paired', levels=[0, 1, 2])\n",
    "\n",
    "    # Plot points\n",
    "    # Reset colours\n",
    "    plt.gca().set_prop_cycle(None)\n",
    "    for c in classes:\n",
    "        plt.scatter(c.x[:, 0], c.x[:, 1], cmap='Paired', label=f'{c.name}')\n",
    "\n",
    "    zz = np.array(classified_data).reshape(x_coords.shape)\n",
    "    # plt.contour(x_coords, y_coords, zz, levels=list(range(len(classes))), linewidths=3, zorder=3)\n",
    "    plt.legend()\n",
    "    plt.title(\"Data Classified Using ML\")\n",
    "    plt.xlabel(\"x\")\n",
    "    plt.xlabel(\"y\")\n",
    "\n",
    "    plt.tight_layout()\n",
    "    plt.show()"
   ]
  },
  {
   "cell_type": "code",
   "execution_count": null,
   "metadata": {},
   "outputs": [
    {
     "data": {
      "image/png": "[encoded data removed]",
      "text/plain": [
       "<Figure size 432x288 with 1 Axes>"
      ]
     },
     "metadata": {
      "needs_background": "light"
     },
     "output_type": "display_data"
    }
   ],
   "source": [
    "plot_classified_data(classified_array, classes)"
   ]
  }
 ],
 "metadata": {
  "interpreter": {
   "hash": "b4d6792697335b167190a9df4c0bc047b335ee4113a2f65f6fc6de8f78a70b4d"
  },
  "kernelspec": {
   "display_name": "Python 3.9.7 ('fydp_test')",
   "language": "python",
   "name": "python3"
  },
  "language_info": {
   "codemirror_mode": {
    "name": "ipython",
    "version": 3
   },
   "file_extension": ".py",
   "mimetype": "text/x-python",
   "name": "python",
   "nbconvert_exporter": "python",
   "pygments_lexer": "ipython3",
   "version": "3.9.7"
  },
  "orig_nbformat": 4
 },
 "nbformat": 4,
 "nbformat_minor": 2
}
