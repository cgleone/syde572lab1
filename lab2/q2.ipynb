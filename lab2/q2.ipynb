{
 "cells": [
  {
   "cell_type": "code",
   "execution_count": 2,
   "metadata": {},
   "outputs": [],
   "source": [
    "from scipy.io import loadmat\n",
    "import matplotlib.pyplot as plt\n",
    "import numpy as np\n",
    "from scipy.stats import norm\n",
    "\n",
    "data1 = loadmat('lab2_1.mat')\n",
    "data2 = loadmat('lab2_2.mat')\n",
    "data3 = loadmat('lab2_3.mat')\n",
    "\n",
    "al = data2['al']\n",
    "bl = data2['bl']\n",
    "cl = data2['cl']"
   ]
  },
  {
   "cell_type": "code",
   "execution_count": 18,
   "metadata": {},
   "outputs": [
    {
     "data": {
      "text/plain": [
       "1721668.8199999996"
      ]
     },
     "execution_count": 18,
     "metadata": {},
     "output_type": "execute_result"
    }
   ],
   "source": [
    "mu_hat = np.sum(al, axis=0) / al.size\n",
    "sigma_hat = np.sum((al - mu_hat)@(al - mu_hat).T) / al.size\n",
    "sigma_hat"
   ]
  }
 ],
 "metadata": {
  "interpreter": {
   "hash": "b4d6792697335b167190a9df4c0bc047b335ee4113a2f65f6fc6de8f78a70b4d"
  },
  "kernelspec": {
   "display_name": "Python 3.9.7 ('fydp_test')",
   "language": "python",
   "name": "python3"
  },
  "language_info": {
   "codemirror_mode": {
    "name": "ipython",
    "version": 3
   },
   "file_extension": ".py",
   "mimetype": "text/x-python",
   "name": "python",
   "nbconvert_exporter": "python",
   "pygments_lexer": "ipython3",
   "version": "3.9.7"
  },
  "orig_nbformat": 4
 },
 "nbformat": 4,
 "nbformat_minor": 2
}
